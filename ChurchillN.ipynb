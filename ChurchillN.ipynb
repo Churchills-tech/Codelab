{
  "nbformat": 4,
  "nbformat_minor": 0,
  "metadata": {
    "colab": {
      "name": "ChurchillN.ipynb",
      "provenance": [],
      "collapsed_sections": [],
      "authorship_tag": "ABX9TyM7z+NBa4y4cbcn1gtKsoNx",
      "include_colab_link": true
    },
    "kernelspec": {
      "name": "python3",
      "display_name": "Python 3"
    },
    "language_info": {
      "name": "python"
    }
  },
  "cells": [
    {
      "cell_type": "markdown",
      "metadata": {
        "id": "view-in-github",
        "colab_type": "text"
      },
      "source": [
        "<a href=\"https://colab.research.google.com/github/Churchills-tech/Codelab/blob/main/ChurchillN.ipynb\" target=\"_parent\"><img src=\"https://colab.research.google.com/assets/colab-badge.svg\" alt=\"Open In Colab\"/></a>"
      ]
    },
    {
      "cell_type": "code",
      "execution_count": 1,
      "metadata": {
        "colab": {
          "base_uri": "https://localhost:8080/",
          "height": 491
        },
        "id": "lujpM0BeZoOA",
        "outputId": "d9ef63b4-83e4-46d8-bc4a-87dd3e7c0a6c"
      },
      "outputs": [
        {
          "output_type": "stream",
          "name": "stdout",
          "text": [
            "likelihood  0.1  0.2  0.3  0.5\n",
            "impact                        \n",
            "1           NaN  0.2  NaN  NaN\n",
            "2           NaN  NaN  0.6  NaN\n",
            "7           0.7  NaN  NaN  NaN\n",
            "10          NaN  NaN  NaN  5.0\n",
            "likelihood     0.1    0.2   0.3       0.5\n",
            "impact                                   \n",
            "1              NaN  users   NaN       NaN\n",
            "2              NaN    NaN  team       NaN\n",
            "7           budget    NaN   NaN       NaN\n",
            "10             NaN    NaN   NaN  security\n"
          ]
        },
        {
          "output_type": "display_data",
          "data": {
            "image/png": "[encoded data removed]",
            "text/plain": [
              "<Figure size 432x288 with 2 Axes>"
            ]
          },
          "metadata": {
            "needs_background": "light"
          }
        }
      ],
      "source": [
        "#import a few libraries\n",
        "import seaborn as sns\n",
        "import pandas as pd\n",
        "import numpy as np\n",
        "\n",
        "# Create a dataframe (data frame)\n",
        "riskDF = pd. DataFrame (columns=['risk', 'likelihood','impact', 'score'])\n",
        "riskDF['risk']=['users', 'team', 'budget', 'security']\n",
        "riskDF['likelihood']=[0.2,0.3,0.1,0.5]\n",
        "riskDF['impact']=[1,2,7,10]\n",
        "riskDF['score']=riskDF['impact']*riskDF['likelihood']\n",
        "scoresPivot=riskDF.pivot('impact', 'likelihood', 'score')\n",
        "print(scoresPivot)\n",
        "labelsPivot=riskDF.pivot('impact', 'likelihood', 'risk')\n",
        "print(labelsPivot)\n",
        "# simple heatmap\n",
        "p1=sns.heatmap(scoresPivot, cmap=\"afmhot_r\",annot=labelsPivot, fmt='')"
      ]
    }
  ]
}