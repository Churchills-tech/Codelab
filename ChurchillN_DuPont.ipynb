{
  "nbformat": 4,
  "nbformat_minor": 0,
  "metadata": {
    "colab": {
      "name": "ChurchillN_DuPont.ipynb",
      "provenance": [],
      "collapsed_sections": [],
      "authorship_tag": "ABX9TyNKNa9XUF6v4r6tQUZ9e/06",
      "include_colab_link": true
    },
    "kernelspec": {
      "name": "python3",
      "display_name": "Python 3"
    },
    "language_info": {
      "name": "python"
    }
  },
  "cells": [
    {
      "cell_type": "markdown",
      "metadata": {
        "id": "view-in-github",
        "colab_type": "text"
      },
      "source": [
        "<a href=\"https://colab.research.google.com/github/Churchills-tech/Codelab/blob/main/ChurchillN_DuPont.ipynb\" target=\"_parent\"><img src=\"https://colab.research.google.com/assets/colab-badge.svg\" alt=\"Open In Colab\"/></a>"
      ]
    },
    {
      "cell_type": "code",
      "execution_count": 7,
      "metadata": {
        "colab": {
          "base_uri": "https://localhost:8080/"
        },
        "id": "X9EiQI-IencL",
        "outputId": "2384da1d-0baa-49c9-acf6-73b2e7d74e5e"
      },
      "outputs": [
        {
          "output_type": "stream",
          "name": "stdout",
          "text": [
            "{'date': '2020-12-31', 'symbol': 'FMC', 'reportedCurrency': 'USD', 'cik': '0000037785', 'fillingDate': '2021-02-25', 'acceptedDate': '2021-02-25 17:03:01', 'calendarYear': '2020', 'period': 'FY', 'cashAndCashEquivalents': 568900000, 'shortTermInvestments': 0.0, 'cashAndShortTermInvestments': 568900000, 'netReceivables': 2528000000, 'inventory': 1095600000, 'otherCurrentAssets': 183100000, 'totalCurrentAssets': 4375600000, 'propertyPlantEquipmentNet': 919000000, 'goodwill': 1468900000, 'intangibleAssets': 2783200000, 'goodwillAndIntangibleAssets': 4252100000, 'longTermInvestments': 3100000.0, 'taxAssets': 229600000, 'otherNonCurrentAssets': 407000000, 'totalNonCurrentAssets': 5810800000, 'otherAssets': 0.0, 'totalAssets': 10186400000, 'accountPayables': 946700000, 'shortTermDebt': 363900000, 'taxPayables': 82200000, 'deferredRevenue': 452900000, 'otherCurrentLiabilities': 1065500000, 'totalCurrentLiabilities': 2829000000, 'longTermDebt': 3080600000, 'deferredRevenueNonCurrent': 89400000, 'deferredTaxLiabilitiesNonCurrent': 350000000, 'otherNonCurrentLiabilities': 853200000, 'totalNonCurrentLiabilities': 4373200000, 'otherLiabilities': 0.0, 'capitalLeaseObligations': 176700000, 'totalLiabilities': 7202200000, 'preferredStock': 0.0, 'commonStock': 18600000, 'retainedEarnings': 4506400000, 'accumulatedOtherComprehensiveIncomeLoss': -282200000, 'othertotalStockholdersEquity': -1281000000, 'totalStockholdersEquity': 2961800000, 'totalLiabilitiesAndStockholdersEquity': 10164000000, 'minorityInterest': 22400000, 'totalEquity': 2984200000, 'totalLiabilitiesAndTotalEquity': 10186400000, 'totalInvestments': 0.0, 'totalDebt': 3444500000, 'netDebt': 2875600000, 'link': 'https://www.sec.gov/Archives/edgar/data/37785/000003778521000024/0000037785-21-000024-index.htm', 'finalLink': 'https://www.sec.gov/Archives/edgar/data/37785/000003778521000024/fmc-20201231.htm'}\n",
            "[0.24057686004588666, 0.1862043352015666, 0.18852426647711568, 0.16087276921598154, 0.19979118502498322]\n"
          ]
        }
      ],
      "source": [
        "import requests \n",
        "import pandas as pd\n",
        "myAPIKey = 'a18f132eb4ea4bbb9eeb8137bf7ba706'\n",
        "\n",
        "stock = 'FMC'\n",
        "balanceStatements = requests.get(f\"https://financialmodelingprep.com/api/v3/balance-sheet-statement/{stock}?apikey={myAPIKey}\").json()\n",
        "\n",
        "\n",
        "incomeStatements = requests.get(f'https://financialmodelingprep.com/api/v3/income-statement/{stock}?apikey={myAPIKey}').json()\n",
        "\n",
        "\n",
        "print (balanceStatements[1])\n",
        "\n",
        "#the numbers from the two most recent years\n",
        "twoYearBalanceStatement= balanceStatements[:5]\n",
        "twoYearIncomeStatement= incomeStatements[:5]\n",
        "\n",
        "\n",
        "#calculate profitability, assetTurnOver, and capitalStructure\n",
        "profitability=[]\n",
        "assetTurnOver=[]\n",
        "capitalStructure=[]\n",
        "returnOnEquity=[]\n",
        "#getting details\n",
        "for i in range (0,5):\n",
        " profitabilityValue=twoYearIncomeStatement[i]['netIncome']/twoYearIncomeStatement[i]['revenue']\n",
        " profitability.append(profitabilityValue)\n",
        " assetTurnOverValue=twoYearIncomeStatement[i]['revenue']/twoYearBalanceStatement[i]['totalAssets']\n",
        " assetTurnOver.append(assetTurnOverValue)\n",
        " capitalStructureValue=twoYearBalanceStatement[i]['totalAssets']/twoYearBalanceStatement[i]['totalStockholdersEquity']\n",
        " capitalStructure.append(capitalStructure)\n",
        " returnOnEquityValue=profitabilityValue*assetTurnOverValue*capitalStructureValue\n",
        " returnOnEquity.append(returnOnEquityValue)\n",
        "\n",
        "\n",
        "print(returnOnEquity)"
      ]
    }
  ]
}