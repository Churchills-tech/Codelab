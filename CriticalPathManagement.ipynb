{
  "nbformat": 4,
  "nbformat_minor": 0,
  "metadata": {
    "colab": {
      "name": "CriticalPathManagement.ipynb",
      "provenance": [],
      "collapsed_sections": [],
      "mount_file_id": "1W1gPjEsDeI_-LieeHUxuIq2TLZ-pvMOP",
      "authorship_tag": "ABX9TyOPOZSW3h/aEbQR9q6U0Exk",
      "include_colab_link": true
    },
    "kernelspec": {
      "name": "python3",
      "display_name": "Python 3"
    },
    "language_info": {
      "name": "python"
    }
  },
  "cells": [
    {
      "cell_type": "markdown",
      "metadata": {
        "id": "view-in-github",
        "colab_type": "text"
      },
      "source": [
        "<a href=\"https://colab.research.google.com/github/Churchills-tech/Codelab/blob/main/CriticalPathManagement.ipynb\" target=\"_parent\"><img src=\"https://colab.research.google.com/assets/colab-badge.svg\" alt=\"Open In Colab\"/></a>"
      ]
    },
    {
      "cell_type": "code",
      "execution_count": null,
      "metadata": {
        "id": "1dK9EYho3G35",
        "colab": {
          "base_uri": "https://localhost:8080/"
        },
        "outputId": "9e088c7a-385c-4d9f-e6f7-f68931b51fa5"
      },
      "outputs": [
        {
          "output_type": "stream",
          "name": "stdout",
          "text": [
            "Index(['A', 'B', 'C', 'D', 'E', 'F', 'G', 'H', 'I', 'J', 'EOP'], dtype='object', name='tasks')\n",
            "tasks         A         B         C         D         E         F         G  \\\n",
            "0      6.187907  4.260153  3.022295  2.805948  6.079574  2.083713  6.053814   \n",
            "1      6.970643  5.120803  4.147915  2.693050  7.411318  3.332622  7.516910   \n",
            "\n",
            "tasks         H          I         J  EOP  \n",
            "0      5.446895  23.082047  3.012889  NaN  \n",
            "1      3.594650   8.912400  3.102731  NaN  \n"
          ]
        }
      ],
      "source": [
        "import tensorflow_probability as tfp\n",
        "tfd = tfp.distributions\n",
        "import pandas as pd\n",
        "\n",
        "\n",
        "tasksDF = pd.read_csv('/content/drive/MyDrive/496/PERT-CPM1.csv')\n",
        "taskNames = tasksDF['tasks']\n",
        "\n",
        "\n",
        "simulationDF=pd.DataFrame(columns=taskNames)\n",
        "\n",
        "\n",
        "taskOpt = tasksDF['ai ']\n",
        "taskPess = tasksDF['mi']\n",
        "taskML = tasksDF['bi']\n",
        "\n",
        "print(simulationDF.columns)\n",
        "tasks = pd.DataFrame(columns = taskNames)\n",
        "for index, task in tasksDF.iterrows():\n",
        "  dist=tfd.PERT(low=task['ai '], peak=task['mi'], high=task['bi'], temperature=4)\n",
        "  simulationDF[task['tasks']]=dist.sample(1000)\n",
        "\n",
        "print(simulationDF.head(2))\n",
        "\n",
        "simulationDF.to_csv('/content/drive/MyDrive/496/simulationData.csv', index=False,)\n"
      ]
    }
  ]
}